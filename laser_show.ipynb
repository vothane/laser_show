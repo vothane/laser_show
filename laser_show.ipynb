{
 "cells": [
  {
   "cell_type": "code",
   "execution_count": 55,
   "metadata": {
    "collapsed": false
   },
   "outputs": [],
   "source": [
    "import numpy as np\n",
    "import theano\n",
    "import theanets # autoencoders\n",
    "from sklearn.neighbors import KNeighborsClassifier\n",
    "from scipy import misc\n",
    "import math\n",
    "import os.path"
   ]
  },
  {
   "cell_type": "code",
   "execution_count": 2,
   "metadata": {
    "collapsed": true
   },
   "outputs": [],
   "source": [
    "def crop(img):\n",
    "    top, bottom, left, right = 30, -20, 15, -15\n",
    "    return img[top:bottom, left:right]"
   ]
  },
  {
   "cell_type": "code",
   "execution_count": 3,
   "metadata": {
    "collapsed": true
   },
   "outputs": [],
   "source": [
    "def distance(c1, c2):\n",
    "    (r1,g1,b1) = c1\n",
    "    (r2,g2,b2) = c2\n",
    "    return math.sqrt((r1 - r2)**2 + (g1 - g2) ** 2 + (b1 - b2) **2)"
   ]
  },
  {
   "cell_type": "code",
   "execution_count": 4,
   "metadata": {
    "collapsed": false
   },
   "outputs": [],
   "source": [
    "hit_map = {(255, 255, 255) : 0, # white nothing\n",
    "           (0, 0, 0) : 0,       # homerun. not defensible\n",
    "           (255, 0, 0) : 1,     # linedrive, laser\n",
    "           (0, 255, 0) : 2,     # groundball  \n",
    "           (0, 0, 255) : 3,     # flyball\n",
    "           (160, 32, 240) : 4}  # blooper\n",
    "\n",
    "colors = hit_map.keys()\n",
    "    \n",
    "def norm_color(rgb):\n",
    "    rgb_key = tuple(rgb)\n",
    "    \n",
    "    if rgb_key in colors:\n",
    "        return hit_map[rgb_key]\n",
    "    else:    \n",
    "        sc = sorted(colors, key=lambda color: distance(color, rgb))\n",
    "        return hit_map[sc[0]]"
   ]
  },
  {
   "cell_type": "code",
   "execution_count": 44,
   "metadata": {
    "collapsed": true
   },
   "outputs": [],
   "source": [
    "def process_img(img_file):\n",
    "    img = misc.imread('charts/pros/{}'.format(img_file), mode='RGB')\n",
    "    img = misc.imresize(img, size=15)\n",
    "    img = crop(img)\n",
    "    img = np.array([[norm_color(rgb) for rgb in row] for row in img])\n",
    "    return img.reshape((1, 11349))"
   ]
  },
  {
   "cell_type": "code",
   "execution_count": 48,
   "metadata": {
    "collapsed": false,
    "scrolled": true
   },
   "outputs": [
    {
     "name": "stdout",
     "output_type": "stream",
     "text": [
      "{'Kris_Bryant': array([[0, 0, 0, ..., 0, 0, 0]]), 'Mike_Trout': array([[0, 0, 0, ..., 0, 0, 0]]), 'Brian_Dozier': array([[0, 0, 0, ..., 0, 0, 0]]), 'Miguel_Cabrera': array([[0, 0, 0, ..., 0, 0, 0]]), 'Manny_Machado': array([[0, 0, 0, ..., 0, 0, 0]]), 'Ian_Kinsler': array([[0, 0, 0, ..., 0, 0, 0]]), 'Mookie_Betts': array([[0, 0, 0, ..., 0, 0, 0]]), 'Justin_Turner': array([[0, 0, 0, ..., 0, 0, 0]]), 'Nolan_Arenado': array([[0, 0, 0, ..., 0, 0, 0]]), 'Adrian_Beltre': array([[0, 0, 0, ..., 0, 0, 0]]), 'Josh_Donaldson': array([[0, 0, 0, ..., 0, 0, 0]]), 'Dustin_Pedroia': array([[0, 0, 0, ..., 0, 0, 0]]), 'Xander_Bogaerts': array([[0, 0, 0, ..., 0, 0, 0]]), 'Jose_Altuve': array([[0, 0, 0, ..., 0, 0, 0]]), 'Paul_Goldschmidt': array([[0, 0, 0, ..., 0, 0, 0]])}\n"
     ]
    }
   ],
   "source": [
    "player_map = {img_file[:-4] : process_img(img_file) \n",
    "              for img_file in os.listdir('charts/pros/')}\n",
    "print player_map"
   ]
  },
  {
   "cell_type": "code",
   "execution_count": 54,
   "metadata": {
    "collapsed": false
   },
   "outputs": [
    {
     "name": "stdout",
     "output_type": "stream",
     "text": [
      "{0: 'Kris_Bryant', 1: 'Mike_Trout', 2: 'Brian_Dozier', 3: 'Miguel_Cabrera', 4: 'Manny_Machado', 5: 'Ian_Kinsler', 6: 'Mookie_Betts', 7: 'Justin_Turner', 8: 'Nolan_Arenado', 9: 'Adrian_Beltre', 10: 'Josh_Donaldson', 11: 'Dustin_Pedroia', 12: 'Xander_Bogaerts', 13: 'Jose_Altuve', 14: 'Paul_Goldschmidt'}\n"
     ]
    }
   ],
   "source": [
    "player_class = {i : player \n",
    "                for i, player in enumerate(player_map.keys())}\n",
    "print player_class"
   ]
  },
  {
   "cell_type": "markdown",
   "metadata": {},
   "source": [
    "## One Hidden Layer\n",
    "\n",
    "Autoencoder with only one hidden layer, the dimensions in the data captured by the\n",
    "autoencoder model approximate the results of Principal Component Analysis (PCA). However, an autoencoder behaves much differently if there is non-linearity involved. And this csae study is very much non-linear. The autoencoder will detect different latent factors that PCA will never be able to detect."
   ]
  },
  {
   "cell_type": "code",
   "execution_count": 49,
   "metadata": {
    "collapsed": false
   },
   "outputs": [],
   "source": [
    "def get_non_linear_pca(data):\n",
    "    nonlinear_pca_model = theanets.Autoencoder([11349, (16,'relu'), 11349])\n",
    "    nonlinear_pca_model.train([data], algo='rmsprop', input_noise=0.1, hidden_l1=.001, sparsity=0.9, num_updates=1000)\n",
    "    return nonlinear_pca_model.encode(data)"
   ]
  },
  {
   "cell_type": "code",
   "execution_count": 51,
   "metadata": {
    "collapsed": false
   },
   "outputs": [],
   "source": [
    "%%capture\n",
    "pca_map = {player : get_non_linear_pca(data) \n",
    "           for player, data in player_map.iteritems()}"
   ]
  },
  {
   "cell_type": "code",
   "execution_count": 80,
   "metadata": {
    "collapsed": false
   },
   "outputs": [
    {
     "name": "stdout",
     "output_type": "stream",
     "text": [
      "Dustin_Pedroia\n"
     ]
    }
   ],
   "source": [
    "knn = KNeighborsClassifier(n_neighbors=1)\n",
    "X = [x[0] for x in player_map.values()]\n",
    "y = player_class.keys()\n",
    "knn.fit(X, y) \n",
    "player_key = knn.predict(player_map['Dustin_Pedroia'])\n",
    "print player_class[player_key[0]]"
   ]
  },
  {
   "cell_type": "markdown",
   "metadata": {},
   "source": [
    "## Deeper Jeeper Creepers\n",
    "\n",
    "More hidden layers, where the \"black box\" mystique of deep learners come in play. How they get the deep features or what these features even mean, is at best, a deep dark mystery. After some devoted research we can make head and tails of it. Even make a more sophiscated deep learner to figure it out, but then again, we won't know how it got it conclusions. This is the \"devil in the details\" dilemma, they are always one step ahead of us."
   ]
  },
  {
   "cell_type": "code",
   "execution_count": 13,
   "metadata": {
    "collapsed": false
   },
   "outputs": [
    {
     "data": {
      "text/plain": [
       "(OrderedDict([('loss', 0.0057253627638351101),\n",
       "              ('err', 0.00055274567694036487)]),\n",
       " OrderedDict([('loss', 0.005441380249301425),\n",
       "              ('err', 0.00014149329847880525)]))"
      ]
     },
     "execution_count": 13,
     "metadata": {},
     "output_type": "execute_result"
    }
   ],
   "source": [
    "%%capture\n",
    "deep_model = theanets.Autoencoder([11349, (16,'relu'), (16,'relu'), 11349])\n",
    "deep_model.train([mb], algo='rmsprop', input_noise=0.1, hidden_l1=.001, sparsity=0.9, num_updates=1000)"
   ]
  },
  {
   "cell_type": "code",
   "execution_count": 14,
   "metadata": {
    "collapsed": false
   },
   "outputs": [
    {
     "name": "stdout",
     "output_type": "stream",
     "text": [
      "[[ 14.23102389  11.36744099   0.           0.           0.          18.55435917\n",
      "    2.14325471   0.           9.25160875   0.           0.           0.\n",
      "    0.          34.6439092    7.7917971    0.        ]]\n"
     ]
    }
   ],
   "source": [
    "deep_features = deep_model.encode(mb)\n",
    "print(deep_features)"
   ]
  }
 ],
 "metadata": {
  "anaconda-cloud": {},
  "kernelspec": {
   "display_name": "Python [conda root]",
   "language": "python",
   "name": "conda-root-py"
  },
  "language_info": {
   "codemirror_mode": {
    "name": "ipython",
    "version": 2
   },
   "file_extension": ".py",
   "mimetype": "text/x-python",
   "name": "python",
   "nbconvert_exporter": "python",
   "pygments_lexer": "ipython2",
   "version": "2.7.12"
  }
 },
 "nbformat": 4,
 "nbformat_minor": 1
}
