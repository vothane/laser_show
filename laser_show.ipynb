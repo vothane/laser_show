{
 "cells": [
  {
   "cell_type": "code",
   "execution_count": 1,
   "metadata": {
    "collapsed": false
   },
   "outputs": [],
   "source": [
    "import numpy as np\n",
    "import theano\n",
    "import theanets # autoencoders\n",
    "from sklearn.neighbors import KNeighborsClassifier\n",
    "from scipy import misc\n",
    "import math\n",
    "import os.path"
   ]
  },
  {
   "cell_type": "code",
   "execution_count": 2,
   "metadata": {
    "collapsed": true
   },
   "outputs": [],
   "source": [
    "def crop(img):\n",
    "    top, bottom, left, right = 30, -20, 15, -15\n",
    "    return img[top:bottom, left:right]"
   ]
  },
  {
   "cell_type": "code",
   "execution_count": 3,
   "metadata": {
    "collapsed": true
   },
   "outputs": [],
   "source": [
    "def distance(c1, c2):\n",
    "    (r1,g1,b1) = c1\n",
    "    (r2,g2,b2) = c2\n",
    "    return math.sqrt((r1 - r2)**2 + (g1 - g2) ** 2 + (b1 - b2) **2)"
   ]
  },
  {
   "cell_type": "code",
   "execution_count": 4,
   "metadata": {
    "collapsed": false
   },
   "outputs": [],
   "source": [
    "hit_map = {(255, 255, 255) : 0, # white nothing\n",
    "           (0, 0, 0) : 0,       # homerun. not defensible\n",
    "           (255, 0, 0) : 1,     # linedrive, laser\n",
    "           (0, 255, 0) : 2,     # groundball  \n",
    "           (0, 0, 255) : 3,     # flyball\n",
    "           (160, 32, 240) : 4}  # blooper\n",
    "\n",
    "colors = hit_map.keys()\n",
    "    \n",
    "def norm_color(rgb):\n",
    "    rgb_key = tuple(rgb)\n",
    "    \n",
    "    if rgb_key in colors:\n",
    "        return hit_map[rgb_key]\n",
    "    else:    \n",
    "        sc = sorted(colors, key=lambda color: distance(color, rgb))\n",
    "        return hit_map[sc[0]]"
   ]
  },
  {
   "cell_type": "code",
   "execution_count": 5,
   "metadata": {
    "collapsed": true
   },
   "outputs": [],
   "source": [
    "def process_img(img_file):\n",
    "    img = misc.imread('charts/pros/{}'.format(img_file), mode='RGB')\n",
    "    img = misc.imresize(img, size=15)\n",
    "    img = crop(img)\n",
    "    img = np.array([[norm_color(rgb) for rgb in row] for row in img])\n",
    "    return img.reshape((1, 11349))"
   ]
  },
  {
   "cell_type": "code",
   "execution_count": 6,
   "metadata": {
    "collapsed": false,
    "scrolled": true
   },
   "outputs": [
    {
     "name": "stdout",
     "output_type": "stream",
     "text": [
      "{'Kris_Bryant': array([[0, 0, 0, ..., 0, 0, 0]]), 'Mike_Trout': array([[0, 0, 0, ..., 0, 0, 0]]), 'Brian_Dozier': array([[0, 0, 0, ..., 0, 0, 0]]), 'Miguel_Cabrera': array([[0, 0, 0, ..., 0, 0, 0]]), 'Manny_Machado': array([[0, 0, 0, ..., 0, 0, 0]]), 'Ian_Kinsler': array([[0, 0, 0, ..., 0, 0, 0]]), 'Mookie_Betts': array([[0, 0, 0, ..., 0, 0, 0]]), 'Justin_Turner': array([[0, 0, 0, ..., 0, 0, 0]]), 'Nolan_Arenado': array([[0, 0, 0, ..., 0, 0, 0]]), 'Adrian_Beltre': array([[0, 0, 0, ..., 0, 0, 0]]), 'Josh_Donaldson': array([[0, 0, 0, ..., 0, 0, 0]]), 'Dustin_Pedroia': array([[0, 0, 0, ..., 0, 0, 0]]), 'Xander_Bogaerts': array([[0, 0, 0, ..., 0, 0, 0]]), 'Jose_Altuve': array([[0, 0, 0, ..., 0, 0, 0]]), 'Paul_Goldschmidt': array([[0, 0, 0, ..., 0, 0, 0]])}\n"
     ]
    }
   ],
   "source": [
    "player_map = {img_file[:-4] : process_img(img_file) \n",
    "              for img_file in os.listdir('charts/pros/')}\n",
    "print player_map"
   ]
  },
  {
   "cell_type": "code",
   "execution_count": 7,
   "metadata": {
    "collapsed": false
   },
   "outputs": [
    {
     "name": "stdout",
     "output_type": "stream",
     "text": [
      "{0: 'Kris_Bryant', 1: 'Mike_Trout', 2: 'Brian_Dozier', 3: 'Miguel_Cabrera', 4: 'Manny_Machado', 5: 'Ian_Kinsler', 6: 'Mookie_Betts', 7: 'Justin_Turner', 8: 'Nolan_Arenado', 9: 'Adrian_Beltre', 10: 'Josh_Donaldson', 11: 'Dustin_Pedroia', 12: 'Xander_Bogaerts', 13: 'Jose_Altuve', 14: 'Paul_Goldschmidt'}\n"
     ]
    }
   ],
   "source": [
    "player_class = {i : player \n",
    "                for i, player in enumerate(player_map.keys())}\n",
    "print player_class"
   ]
  },
  {
   "cell_type": "markdown",
   "metadata": {},
   "source": [
    "## One Hidden Layer\n",
    "\n",
    "Autoencoder with only one hidden layer, the dimensions in the data captured by the\n",
    "autoencoder model approximate the results of Principal Component Analysis (PCA). However, an autoencoder behaves much differently if there is non-linearity involved. And this case study is very much non-linear. The autoencoder will detect different latent factors that PCA will never be able to detect."
   ]
  },
  {
   "cell_type": "code",
   "execution_count": 8,
   "metadata": {
    "collapsed": false
   },
   "outputs": [],
   "source": [
    "def get_non_linear_pca(data):\n",
    "    nonlinear_pca_model = theanets.Autoencoder([11349, (16,'relu'), 11349])\n",
    "    nonlinear_pca_model.train([data], algo='rmsprop', input_noise=0.1, hidden_l1=.001, sparsity=0.9, num_updates=1000)\n",
    "    return nonlinear_pca_model.encode(data)"
   ]
  },
  {
   "cell_type": "code",
   "execution_count": 9,
   "metadata": {
    "collapsed": false
   },
   "outputs": [],
   "source": [
    "%%capture\n",
    "pca_map = {player : get_non_linear_pca(data) \n",
    "           for player, data in player_map.iteritems()}"
   ]
  },
  {
   "cell_type": "code",
   "execution_count": 10,
   "metadata": {
    "collapsed": false
   },
   "outputs": [
    {
     "name": "stdout",
     "output_type": "stream",
     "text": [
      "{'Kris_Bryant': array([[ 19.14107018,  16.77442651,   0.        ,  13.27170813,\n",
      "         18.54852151,   0.        ,  10.82832315,   0.        ,\n",
      "          0.        ,  15.41038945,  12.1842489 ,   3.54790086,\n",
      "         16.0049916 ,   0.        ,   0.        ,   0.        ]]), 'Mike_Trout': array([[ 20.15692611,  19.77078369,   0.        ,   9.47814634,\n",
      "         17.95032803,   3.30983958,   0.        ,   0.        ,\n",
      "         18.08122375,  16.25217339,   4.95630184,  12.4094523 ,\n",
      "         17.84088484,   0.        ,   0.        ,   0.        ]]), 'Brian_Dozier': array([[ 23.90217854,  18.69523635,   0.        ,   0.        ,\n",
      "         18.80582489,   0.        ,   0.        ,   0.        ,\n",
      "         15.31437425,  18.61607451,  21.00674342,  11.74648036,\n",
      "         20.99122025,   0.        ,   0.        ,   0.        ]]), 'Miguel_Cabrera': array([[ 17.57309957,  17.02422026,   0.        ,  13.53140452,\n",
      "         17.41240587,  17.25003005,   0.        ,   0.        ,\n",
      "          0.        ,  18.15800022,   0.        ,  16.91211799,\n",
      "         22.195701  ,   0.        ,  15.64642378,   0.        ]]), 'Ian_Kinsler': array([[ 30.32063477,   0.        ,   0.        ,   0.        ,\n",
      "         30.1657051 ,  32.24558228,   0.        ,   0.        ,\n",
      "          0.        ,   0.        ,   0.        ,   0.        ,\n",
      "         32.13068192,   0.        ,   0.        ,   0.        ]]), 'Justin_Turner': array([[ 21.49515316,  20.00590556,   0.        ,  16.17256854,\n",
      "         19.57539889,   0.        ,   0.        ,   0.        ,\n",
      "          0.        ,  21.89586616,   0.        ,   0.        ,\n",
      "         22.22891843,   0.        ,  17.27293521,   0.        ]]), 'Mookie_Betts': array([[ 19.47846794,  18.33139625,   0.        ,   7.10892974,\n",
      "         13.1679129 ,  14.20795477,   0.        ,  12.95681456,\n",
      "         16.56403278,  15.47192247,   0.        ,   0.        ,\n",
      "         20.22972537,  18.95710569,   0.        ,   0.        ]]), 'Nolan_Arenado': array([[  0.        ,  16.95956682,   0.        ,  14.67626241,\n",
      "         15.79549943,  17.67270312,   0.        ,   0.        ,\n",
      "         18.35399082,  17.67226331,   0.        ,   0.        ,\n",
      "         17.22069857,   0.        ,  16.47621727,   0.        ]]), 'Adrian_Beltre': array([[ 22.98932338,  24.16893062,   0.        ,   0.        ,\n",
      "         23.65491596,   0.        ,   0.        ,  16.19685325,\n",
      "         18.68004849,  21.73586024,   6.29825079,   0.        ,\n",
      "         20.69388938,   0.        ,   0.        ,   0.        ]]), 'Josh_Donaldson': array([[  0.        ,  17.86015303,   0.        ,  11.51209971,\n",
      "         15.00647309,   0.        ,   0.        ,  10.22334858,\n",
      "         15.51282898,  16.55713269,  12.5158283 ,   0.        ,\n",
      "         15.2811444 ,  17.77166947,   0.        ,   0.        ]]), 'Manny_Machado': array([[ 14.74730797,  20.07519867,   0.        ,   7.8985198 ,\n",
      "         14.41812681,  12.31911865,   0.        ,  16.8996867 ,\n",
      "         17.99045744,   0.        ,  11.15788601,   0.        ,\n",
      "         18.23753793,   0.        ,   0.        ,   0.        ]]), 'Dustin_Pedroia': array([[ 20.15481703,  19.77108512,   0.        ,  10.86618492,\n",
      "         16.79192739,   8.36797785,   0.        ,   0.        ,\n",
      "         16.65737223,  20.3050517 ,  18.05501475,   0.        ,\n",
      "         17.15580139,   0.        ,   0.        ,   0.        ]]), 'Xander_Bogaerts': array([[ 19.55030229,  20.40840824,   0.        ,  14.98748118,\n",
      "          0.        ,  15.90268523,   0.        ,  16.73275838,\n",
      "          0.        ,   0.        ,  19.53034408,   0.        ,\n",
      "         21.062394  ,   0.        ,  13.78307601,   0.        ]]), 'Jose_Altuve': array([[ 21.31082673,  21.69193775,   0.        ,   6.24744061,\n",
      "         21.94949143,   0.        ,   0.        ,   0.        ,\n",
      "          0.        ,  20.74200306,  14.29871902,  15.51597622,\n",
      "         21.18777132,   0.        ,   0.        ,   0.        ]]), 'Paul_Goldschmidt': array([[ 16.1606405 ,  16.56361773,   0.        ,  14.18859492,\n",
      "         17.20304291,   0.        ,   0.        ,   6.36819344,\n",
      "         17.86447923,  14.722518  ,   0.        ,  11.88239893,\n",
      "         17.08765252,   0.        ,   0.        ,   0.        ]])}\n"
     ]
    }
   ],
   "source": [
    "print pca_map"
   ]
  },
  {
   "cell_type": "code",
   "execution_count": 11,
   "metadata": {
    "collapsed": false
   },
   "outputs": [],
   "source": [
    "%%capture\n",
    "BB = misc.imread('charts/prospects/Byron_Buxton.png', mode='RGB')\n",
    "BB = misc.imresize(BB, size=15)\n",
    "BB = crop(BB)\n",
    "BB = np.array([[norm_color(rgb) for rgb in row] for row in BB])\n",
    "BB = BB.reshape((1, 11349))\n",
    "Byron_Buxton = get_non_linear_pca(BB)"
   ]
  },
  {
   "cell_type": "code",
   "execution_count": 12,
   "metadata": {
    "collapsed": false
   },
   "outputs": [
    {
     "name": "stdout",
     "output_type": "stream",
     "text": [
      "[[ 13.42706246  16.4506212    0.          13.31800703   9.55219076   0.\n",
      "    0.           0.           0.          15.91550319   6.1697937    0.\n",
      "   15.40650427  14.36542254  16.05562855   0.        ]]\n"
     ]
    }
   ],
   "source": [
    "print Byron_Buxton"
   ]
  },
  {
   "cell_type": "markdown",
   "metadata": {},
   "source": [
    "Nonlinear PCA is telling us that the much touted prospect Byron Buxton is most similiar to Ian Kinsler when making on-base hits. In 2016, Ian Kinsler 2016 had a great season, statistically. By WAR, wRC+ and wOBA, it was (at least) one of the best three seasons of his career, while qualifying for a batting title. While I'm not familiar with Ian Kinsler; but scouting reports tells of above average power with pop in his bat and known for extra base lasers (doubles/triples). "
   ]
  },
  {
   "cell_type": "code",
   "execution_count": 13,
   "metadata": {
    "collapsed": false
   },
   "outputs": [
    {
     "name": "stdout",
     "output_type": "stream",
     "text": [
      "Ian_Kinsler\n"
     ]
    }
   ],
   "source": [
    "knn = KNeighborsClassifier(n_neighbors=1, weights='distance', algorithm='auto')\n",
    "X = [x[0] for x in pca_map.values()]\n",
    "y = player_class.keys()\n",
    "knn.fit(X, y) \n",
    "player_key = knn.predict(Byron_Buxton)\n",
    "print player_class[player_key[0]]"
   ]
  },
  {
   "cell_type": "markdown",
   "metadata": {},
   "source": [
    "Yeah I would agree with this comparison. About the same age and are MVP candidates for their respective leagues (NL for Bryant and AL for Altuve). IMO their offensive skills are very similiar."
   ]
  },
  {
   "cell_type": "code",
   "execution_count": 14,
   "metadata": {
    "collapsed": false
   },
   "outputs": [
    {
     "name": "stdout",
     "output_type": "stream",
     "text": [
      "Jose_Altuve\n"
     ]
    }
   ],
   "source": [
    "Kris_Bryant = pca_map['Kris_Bryant']\n",
    "temp_pca = pca_map.copy()\n",
    "del temp_pca['Kris_Bryant']\n",
    "temp_class = player_class.copy()\n",
    "del temp_class[0]\n",
    "\n",
    "knn = KNeighborsClassifier(n_neighbors=1, weights='distance', algorithm='auto')\n",
    "X = [x[0] for x in temp_pca.values()]\n",
    "y = temp_class.keys()\n",
    "knn.fit(X, y) \n",
    "player_key = knn.predict(Kris_Bryant)\n",
    "print player_class[player_key[0]]"
   ]
  },
  {
   "cell_type": "markdown",
   "metadata": {},
   "source": [
    "## Deeper Jeeper Creepers\n",
    "\n",
    "More hidden layers, where the \"black box\" mystique of deep learners come in play. How they get the deep features or what these features even mean, is at best, a deep dark mystery. After some devoted research we can make head and tails of it. Even make a more sophiscated deep learner to figure it out, but then again, we won't know how it got it conclusions. This is the \"devil in the details\" dilemma, they are always one step ahead of us."
   ]
  },
  {
   "cell_type": "code",
   "execution_count": 15,
   "metadata": {
    "collapsed": true
   },
   "outputs": [],
   "source": [
    "def get_deep_features(data):\n",
    "    deep_model = theanets.Autoencoder([11349, (16,'relu'), (16,'relu'), 11349])\n",
    "    deep_model.train([data], algo='rmsprop', input_noise=0.1, hidden_l1=.001, sparsity=0.9, num_updates=1000)\n",
    "    return deep_model.encode(data)"
   ]
  },
  {
   "cell_type": "code",
   "execution_count": 16,
   "metadata": {
    "collapsed": false
   },
   "outputs": [],
   "source": [
    "%%capture\n",
    "deep_map = {player : get_deep_features(data) \n",
    "            for player, data in player_map.iteritems()}"
   ]
  },
  {
   "cell_type": "code",
   "execution_count": 17,
   "metadata": {
    "collapsed": false
   },
   "outputs": [
    {
     "name": "stdout",
     "output_type": "stream",
     "text": [
      "{'Kris_Bryant': array([[  0.        ,  22.41459586,   7.80589698,   0.        ,\n",
      "          6.30032257,  14.83792958,  20.07810345,   3.79362483,\n",
      "         13.13476474,   0.        ,   0.        ,   0.        ,\n",
      "         13.57549222,   0.        ,   0.07717846,  13.78577566]]), 'Mike_Trout': array([[  0.        ,  13.14458909,   0.        ,   0.        ,\n",
      "          0.        ,  19.7680581 ,   4.62430988,   0.        ,\n",
      "          8.75754141,   0.        ,   0.        ,   6.34357668,\n",
      "          0.        ,  25.73185754,   8.59881697,   0.        ]]), 'Brian_Dozier': array([[  0.00000000e+00,   2.39187424e+01,   9.66325230e+00,\n",
      "          0.00000000e+00,   0.00000000e+00,   1.92130786e+01,\n",
      "          1.00585593e+01,   0.00000000e+00,   1.90009040e+00,\n",
      "          4.91911364e+00,   0.00000000e+00,   4.96696719e+00,\n",
      "          2.12475791e-02,   0.00000000e+00,   7.58874095e+00,\n",
      "          1.18489112e+01]]), 'Miguel_Cabrera': array([[  0.        ,   5.90910364,   0.        ,   8.38895705,\n",
      "         12.23767515,  13.7055385 ,   0.        ,   0.        ,\n",
      "         16.41171532,   0.        ,   0.        ,   0.        ,\n",
      "          9.94586853,  14.30523827,  16.73753295,   0.        ]]), 'Ian_Kinsler': array([[  3.24822998,   0.        ,   0.        ,  10.27793415,\n",
      "         14.10821292,   8.32009625,   0.        ,   9.18066023,\n",
      "         12.71385812,   0.        ,   0.        ,   0.03246606,\n",
      "         16.60941109,   4.9611176 ,  17.28879105,   0.        ]]), 'Justin_Turner': array([[ 12.59431347,   6.63772169,   0.        ,   0.        ,\n",
      "          0.        ,  13.01309093,   2.88079551,   8.76219721,\n",
      "          9.82531793,   0.        ,   0.        ,   0.        ,\n",
      "          0.        ,  35.17483146,   0.09573229,   0.        ]]), 'Mookie_Betts': array([[ 14.23102389,  11.36744099,   0.        ,   0.        ,\n",
      "          0.        ,  18.55435917,   2.14325471,   0.        ,\n",
      "          9.25160875,   0.        ,   0.        ,   0.        ,\n",
      "          0.        ,  34.6439092 ,   7.7917971 ,   0.        ]]), 'Nolan_Arenado': array([[  0.        ,  29.82657227,   8.87591874,   0.        ,\n",
      "          0.        ,  24.1190556 ,   8.16661677,   0.        ,\n",
      "          0.        ,   9.09125987,   0.        ,   0.66667332,\n",
      "          0.        ,   0.        ,   7.62935294,   0.        ]]), 'Adrian_Beltre': array([[  0.        ,   0.        ,   0.        ,   0.        ,\n",
      "         13.53907364,  17.38033457,   0.        ,   8.13094291,\n",
      "         13.87185836,   0.        ,   0.        ,  11.29379013,\n",
      "          0.        ,  19.62926235,  21.82575125,   0.        ]]), 'Josh_Donaldson': array([[ 13.9988867 ,   0.        ,   0.        ,   0.        ,\n",
      "          1.16272591,  13.43314511,   0.        ,   7.8064607 ,\n",
      "          9.6111231 ,   0.        ,   0.        ,   5.72346511,\n",
      "          0.        ,  30.99599398,  12.30834762,   0.        ]]), 'Manny_Machado': array([[  0.00000000e+00,   1.44792412e+01,   0.00000000e+00,\n",
      "          0.00000000e+00,   1.67722051e+01,   1.42391275e+01,\n",
      "          1.43074707e+01,   1.70280811e-02,   1.76539335e+01,\n",
      "          0.00000000e+00,   0.00000000e+00,   0.00000000e+00,\n",
      "          0.00000000e+00,   0.00000000e+00,   1.18705349e+01,\n",
      "          0.00000000e+00]]), 'Dustin_Pedroia': array([[  1.16349841,  16.52684056,   0.        ,   0.        ,\n",
      "         12.19880775,  19.39007423,   0.        ,   0.        ,\n",
      "         13.5353825 ,   0.        ,   0.        ,   0.        ,\n",
      "         16.03041961,   0.        ,  16.11492149,   0.        ]]), 'Xander_Bogaerts': array([[ 10.07652572,   5.75753098,   0.        ,   0.        ,\n",
      "          0.        ,  11.21335839,   1.98837404,   6.35416851,\n",
      "          7.97048782,   0.        ,   0.        ,   0.        ,\n",
      "          0.        ,  28.85059068,   0.        ,   0.        ]]), 'Jose_Altuve': array([[  0.        ,  17.0147211 ,   9.35530485,   0.        ,\n",
      "          0.        ,   2.87459916,  14.45677517,  21.24690751,\n",
      "          0.        ,  12.36788375,   0.        ,   0.        ,\n",
      "          0.        ,   0.        ,   0.        ,   0.        ]]), 'Paul_Goldschmidt': array([[  0.        ,  24.07773493,   8.45939039,   0.        ,\n",
      "          1.60962843,  11.80460925,  20.75981963,  10.85995334,\n",
      "         11.58308183,   2.09551482,   0.        ,   0.        ,\n",
      "          0.        ,   0.        ,   0.        ,   0.        ]])}\n"
     ]
    }
   ],
   "source": [
    "print deep_map"
   ]
  },
  {
   "cell_type": "code",
   "execution_count": 18,
   "metadata": {
    "collapsed": false
   },
   "outputs": [],
   "source": [
    "%%capture\n",
    "Byron_Buxton = get_deep_features(BB)"
   ]
  },
  {
   "cell_type": "code",
   "execution_count": 19,
   "metadata": {
    "collapsed": false
   },
   "outputs": [
    {
     "name": "stdout",
     "output_type": "stream",
     "text": [
      "[[  6.76782517   9.65330925   0.           0.           3.87504114\n",
      "   15.06333756   5.51005267   0.          12.11597067   0.           0.\n",
      "    0.           0.          24.28893543   8.79757084   0.        ]]\n"
     ]
    }
   ],
   "source": [
    "print Byron_Buxton"
   ]
  },
  {
   "cell_type": "markdown",
   "metadata": {},
   "source": [
    "I didn't like the nonlinear PCA comparison of Byron Bruxton to Ian Kinsler. I was hoping deep features will give **Mike Trout** as his best comparison. And it did. This is because what you would mostly hear and read from experts is that he most resembles Trout at this stage of his career.   "
   ]
  },
  {
   "cell_type": "code",
   "execution_count": 20,
   "metadata": {
    "collapsed": false
   },
   "outputs": [
    {
     "name": "stdout",
     "output_type": "stream",
     "text": [
      "Mike_Trout\n"
     ]
    }
   ],
   "source": [
    "knn = KNeighborsClassifier(n_neighbors=1, weights='distance', algorithm='auto')\n",
    "X = [x[0] for x in deep_map.values()]\n",
    "y = player_class.keys()\n",
    "knn.fit(X, y) \n",
    "player_key = knn.predict(Byron_Buxton)\n",
    "print player_class[player_key[0]]"
   ]
  },
  {
   "cell_type": "markdown",
   "metadata": {},
   "source": [
    "Even though I like the nonlinear PCA comparisons of Kris Bryant to Jose Altuve. However, they are both in their early stages of their careers. Therefore, likely, they will eventually diverge into completely different players. It would be easy to argue that Kris Bryant will evolve into a **Paul Goldschmidt** type hitter if not better."
   ]
  },
  {
   "cell_type": "code",
   "execution_count": 21,
   "metadata": {
    "collapsed": false
   },
   "outputs": [
    {
     "name": "stdout",
     "output_type": "stream",
     "text": [
      "Paul_Goldschmidt\n"
     ]
    }
   ],
   "source": [
    "Kris_Bryant = deep_map['Kris_Bryant']\n",
    "temp_deep = deep_map.copy()\n",
    "del temp_deep['Kris_Bryant']\n",
    "\n",
    "knn = KNeighborsClassifier(n_neighbors=1, weights='distance', algorithm='auto')\n",
    "X = [x[0] for x in temp_deep.values()]\n",
    "y = temp_class.keys()\n",
    "knn.fit(X, y) \n",
    "player_key = knn.predict(Kris_Bryant)\n",
    "print player_class[player_key[0]]"
   ]
  },
  {
   "cell_type": "code",
   "execution_count": null,
   "metadata": {
    "collapsed": true
   },
   "outputs": [],
   "source": []
  }
 ],
 "metadata": {
  "anaconda-cloud": {},
  "kernelspec": {
   "display_name": "Python [conda root]",
   "language": "python",
   "name": "conda-root-py"
  },
  "language_info": {
   "codemirror_mode": {
    "name": "ipython",
    "version": 2
   },
   "file_extension": ".py",
   "mimetype": "text/x-python",
   "name": "python",
   "nbconvert_exporter": "python",
   "pygments_lexer": "ipython2",
   "version": "2.7.12"
  }
 },
 "nbformat": 4,
 "nbformat_minor": 1
}
