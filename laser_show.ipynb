{
 "cells": [
  {
   "cell_type": "code",
   "execution_count": 1,
   "metadata": {
    "collapsed": false
   },
   "outputs": [],
   "source": [
    "import numpy as np\n",
    "import theano\n",
    "import theanets # autoencoders\n",
    "from sklearn.neighbors import KNeighborsClassifier\n",
    "from scipy import misc\n",
    "import math\n",
    "import os.path"
   ]
  },
  {
   "cell_type": "code",
   "execution_count": 2,
   "metadata": {
    "collapsed": true
   },
   "outputs": [],
   "source": [
    "def crop(img):\n",
    "    top, bottom, left, right = 30, -20, 15, -15\n",
    "    return img[top:bottom, left:right]"
   ]
  },
  {
   "cell_type": "code",
   "execution_count": 3,
   "metadata": {
    "collapsed": true
   },
   "outputs": [],
   "source": [
    "def distance(c1, c2):\n",
    "    (r1,g1,b1) = c1\n",
    "    (r2,g2,b2) = c2\n",
    "    return math.sqrt((r1 - r2)**2 + (g1 - g2) ** 2 + (b1 - b2) **2)"
   ]
  },
  {
   "cell_type": "code",
   "execution_count": 4,
   "metadata": {
    "collapsed": false
   },
   "outputs": [],
   "source": [
    "hit_map = {(255, 255, 255) : 0, # white nothing\n",
    "           (0, 0, 0) : 0,       # homerun. not defensible\n",
    "           (255, 0, 0) : 1,     # linedrive, laser\n",
    "           (0, 255, 0) : 2,     # groundball  \n",
    "           (0, 0, 255) : 3,     # flyball\n",
    "           (160, 32, 240) : 4}  # blooper\n",
    "\n",
    "colors = hit_map.keys()\n",
    "    \n",
    "def norm_color(rgb):\n",
    "    rgb_key = tuple(rgb)\n",
    "    \n",
    "    if rgb_key in colors:\n",
    "        return hit_map[rgb_key]\n",
    "    else:    \n",
    "        sc = sorted(colors, key=lambda color: distance(color, rgb))\n",
    "        return hit_map[sc[0]]"
   ]
  },
  {
   "cell_type": "code",
   "execution_count": 5,
   "metadata": {
    "collapsed": true
   },
   "outputs": [],
   "source": [
    "def process_img(img_file):\n",
    "    img = misc.imread('charts/pros/{}'.format(img_file), mode='RGB')\n",
    "    img = misc.imresize(img, size=15)\n",
    "    img = crop(img)\n",
    "    img = np.array([[norm_color(rgb) for rgb in row] for row in img])\n",
    "    return img.reshape((1, 11349))"
   ]
  },
  {
   "cell_type": "code",
   "execution_count": 6,
   "metadata": {
    "collapsed": false,
    "scrolled": true
   },
   "outputs": [
    {
     "name": "stdout",
     "output_type": "stream",
     "text": [
      "{'Kris_Bryant': array([[0, 0, 0, ..., 0, 0, 0]]), 'Mike_Trout': array([[0, 0, 0, ..., 0, 0, 0]]), 'Brian_Dozier': array([[0, 0, 0, ..., 0, 0, 0]]), 'Miguel_Cabrera': array([[0, 0, 0, ..., 0, 0, 0]]), 'Manny_Machado': array([[0, 0, 0, ..., 0, 0, 0]]), 'Ian_Kinsler': array([[0, 0, 0, ..., 0, 0, 0]]), 'Mookie_Betts': array([[0, 0, 0, ..., 0, 0, 0]]), 'Justin_Turner': array([[0, 0, 0, ..., 0, 0, 0]]), 'Nolan_Arenado': array([[0, 0, 0, ..., 0, 0, 0]]), 'Adrian_Beltre': array([[0, 0, 0, ..., 0, 0, 0]]), 'Josh_Donaldson': array([[0, 0, 0, ..., 0, 0, 0]]), 'Dustin_Pedroia': array([[0, 0, 0, ..., 0, 0, 0]]), 'Xander_Bogaerts': array([[0, 0, 0, ..., 0, 0, 0]]), 'Jose_Altuve': array([[0, 0, 0, ..., 0, 0, 0]]), 'Paul_Goldschmidt': array([[0, 0, 0, ..., 0, 0, 0]])}\n"
     ]
    }
   ],
   "source": [
    "player_map = {img_file[:-4] : process_img(img_file) \n",
    "              for img_file in os.listdir('charts/pros/')}\n",
    "print player_map"
   ]
  },
  {
   "cell_type": "code",
   "execution_count": 7,
   "metadata": {
    "collapsed": false
   },
   "outputs": [
    {
     "name": "stdout",
     "output_type": "stream",
     "text": [
      "{0: 'Kris_Bryant', 1: 'Mike_Trout', 2: 'Brian_Dozier', 3: 'Miguel_Cabrera', 4: 'Manny_Machado', 5: 'Ian_Kinsler', 6: 'Mookie_Betts', 7: 'Justin_Turner', 8: 'Nolan_Arenado', 9: 'Adrian_Beltre', 10: 'Josh_Donaldson', 11: 'Dustin_Pedroia', 12: 'Xander_Bogaerts', 13: 'Jose_Altuve', 14: 'Paul_Goldschmidt'}\n"
     ]
    }
   ],
   "source": [
    "player_class = {i : player \n",
    "                for i, player in enumerate(player_map.keys())}\n",
    "print player_class"
   ]
  },
  {
   "cell_type": "markdown",
   "metadata": {},
   "source": [
    "## One Hidden Layer\n",
    "\n",
    "Autoencoder with only one hidden layer, the dimensions in the data captured by the\n",
    "autoencoder model approximate the results of Principal Component Analysis (PCA). However, an autoencoder behaves much differently if there is non-linearity involved. And this csae study is very much non-linear. The autoencoder will detect different latent factors that PCA will never be able to detect."
   ]
  },
  {
   "cell_type": "code",
   "execution_count": 8,
   "metadata": {
    "collapsed": false
   },
   "outputs": [],
   "source": [
    "def get_non_linear_pca(data):\n",
    "    nonlinear_pca_model = theanets.Autoencoder([11349, (16,'relu'), 11349])\n",
    "    nonlinear_pca_model.train([data], algo='rmsprop', input_noise=0.1, hidden_l1=.001, sparsity=0.9, num_updates=1000)\n",
    "    return nonlinear_pca_model.encode(data)"
   ]
  },
  {
   "cell_type": "code",
   "execution_count": 9,
   "metadata": {
    "collapsed": false
   },
   "outputs": [],
   "source": [
    "%%capture\n",
    "pca_map = {player : get_non_linear_pca(data) \n",
    "           for player, data in player_map.iteritems()}"
   ]
  },
  {
   "cell_type": "code",
   "execution_count": 10,
   "metadata": {
    "collapsed": false
   },
   "outputs": [
    {
     "name": "stdout",
     "output_type": "stream",
     "text": [
      "{'Kris_Bryant': array([[ 19.14107018,  16.77442651,   0.        ,  13.27170813,\n",
      "         18.54852151,   0.        ,  10.82832315,   0.        ,\n",
      "          0.        ,  15.41038945,  12.1842489 ,   3.54790086,\n",
      "         16.0049916 ,   0.        ,   0.        ,   0.        ]]), 'Mike_Trout': array([[ 20.15692611,  19.77078369,   0.        ,   9.47814634,\n",
      "         17.95032803,   3.30983958,   0.        ,   0.        ,\n",
      "         18.08122375,  16.25217339,   4.95630184,  12.4094523 ,\n",
      "         17.84088484,   0.        ,   0.        ,   0.        ]]), 'Brian_Dozier': array([[ 23.90217854,  18.69523635,   0.        ,   0.        ,\n",
      "         18.80582489,   0.        ,   0.        ,   0.        ,\n",
      "         15.31437425,  18.61607451,  21.00674342,  11.74648036,\n",
      "         20.99122025,   0.        ,   0.        ,   0.        ]]), 'Miguel_Cabrera': array([[ 17.57309957,  17.02422026,   0.        ,  13.53140452,\n",
      "         17.41240587,  17.25003005,   0.        ,   0.        ,\n",
      "          0.        ,  18.15800022,   0.        ,  16.91211799,\n",
      "         22.195701  ,   0.        ,  15.64642378,   0.        ]]), 'Ian_Kinsler': array([[ 30.32063477,   0.        ,   0.        ,   0.        ,\n",
      "         30.1657051 ,  32.24558228,   0.        ,   0.        ,\n",
      "          0.        ,   0.        ,   0.        ,   0.        ,\n",
      "         32.13068192,   0.        ,   0.        ,   0.        ]]), 'Justin_Turner': array([[ 21.49515316,  20.00590556,   0.        ,  16.17256854,\n",
      "         19.57539889,   0.        ,   0.        ,   0.        ,\n",
      "          0.        ,  21.89586616,   0.        ,   0.        ,\n",
      "         22.22891843,   0.        ,  17.27293521,   0.        ]]), 'Mookie_Betts': array([[ 19.47846794,  18.33139625,   0.        ,   7.10892974,\n",
      "         13.1679129 ,  14.20795477,   0.        ,  12.95681456,\n",
      "         16.56403278,  15.47192247,   0.        ,   0.        ,\n",
      "         20.22972537,  18.95710569,   0.        ,   0.        ]]), 'Nolan_Arenado': array([[  0.        ,  16.95956682,   0.        ,  14.67626241,\n",
      "         15.79549943,  17.67270312,   0.        ,   0.        ,\n",
      "         18.35399082,  17.67226331,   0.        ,   0.        ,\n",
      "         17.22069857,   0.        ,  16.47621727,   0.        ]]), 'Adrian_Beltre': array([[ 22.98932338,  24.16893062,   0.        ,   0.        ,\n",
      "         23.65491596,   0.        ,   0.        ,  16.19685325,\n",
      "         18.68004849,  21.73586024,   6.29825079,   0.        ,\n",
      "         20.69388938,   0.        ,   0.        ,   0.        ]]), 'Josh_Donaldson': array([[  0.        ,  17.86015303,   0.        ,  11.51209971,\n",
      "         15.00647309,   0.        ,   0.        ,  10.22334858,\n",
      "         15.51282898,  16.55713269,  12.5158283 ,   0.        ,\n",
      "         15.2811444 ,  17.77166947,   0.        ,   0.        ]]), 'Manny_Machado': array([[ 14.74730797,  20.07519867,   0.        ,   7.8985198 ,\n",
      "         14.41812681,  12.31911865,   0.        ,  16.8996867 ,\n",
      "         17.99045744,   0.        ,  11.15788601,   0.        ,\n",
      "         18.23753793,   0.        ,   0.        ,   0.        ]]), 'Dustin_Pedroia': array([[ 20.15481703,  19.77108512,   0.        ,  10.86618492,\n",
      "         16.79192739,   8.36797785,   0.        ,   0.        ,\n",
      "         16.65737223,  20.3050517 ,  18.05501475,   0.        ,\n",
      "         17.15580139,   0.        ,   0.        ,   0.        ]]), 'Xander_Bogaerts': array([[ 19.55030229,  20.40840824,   0.        ,  14.98748118,\n",
      "          0.        ,  15.90268523,   0.        ,  16.73275838,\n",
      "          0.        ,   0.        ,  19.53034408,   0.        ,\n",
      "         21.062394  ,   0.        ,  13.78307601,   0.        ]]), 'Jose_Altuve': array([[ 21.31082673,  21.69193775,   0.        ,   6.24744061,\n",
      "         21.94949143,   0.        ,   0.        ,   0.        ,\n",
      "          0.        ,  20.74200306,  14.29871902,  15.51597622,\n",
      "         21.18777132,   0.        ,   0.        ,   0.        ]]), 'Paul_Goldschmidt': array([[ 16.1606405 ,  16.56361773,   0.        ,  14.18859492,\n",
      "         17.20304291,   0.        ,   0.        ,   6.36819344,\n",
      "         17.86447923,  14.722518  ,   0.        ,  11.88239893,\n",
      "         17.08765252,   0.        ,   0.        ,   0.        ]])}\n"
     ]
    }
   ],
   "source": [
    "print pca_map"
   ]
  },
  {
   "cell_type": "code",
   "execution_count": 11,
   "metadata": {
    "collapsed": false
   },
   "outputs": [],
   "source": [
    "%%capture\n",
    "BB = misc.imread('charts/prospects/Byron_Buxton.png', mode='RGB')\n",
    "BB = misc.imresize(BB, size=15)\n",
    "BB = crop(BB)\n",
    "BB = np.array([[norm_color(rgb) for rgb in row] for row in BB])\n",
    "BB = BB.reshape((1, 11349))\n",
    "Byron_Buxton = get_non_linear_pca(BB)"
   ]
  },
  {
   "cell_type": "code",
   "execution_count": 12,
   "metadata": {
    "collapsed": false
   },
   "outputs": [
    {
     "name": "stdout",
     "output_type": "stream",
     "text": [
      "[[ 13.42706246  16.4506212    0.          13.31800703   9.55219076   0.\n",
      "    0.           0.           0.          15.91550319   6.1697937    0.\n",
      "   15.40650427  14.36542254  16.05562855   0.        ]]\n"
     ]
    }
   ],
   "source": [
    "print Byron_Buxton"
   ]
  },
  {
   "cell_type": "markdown",
   "metadata": {},
   "source": [
    "Nonlinear PCA is telling us that the much touted prospect Byron Buxton is most similiar to Ian Kinsler when making on-base hits. In 2016, Ian Kinsler 2016 had great season, statistically. By WAR, wRC+ and wOBA, it was (at least) one of the best three seasons of his career, while qualifying for a batting title. While I'm not familiar with Ian Kinsler; but scouting reports tells of above average power with pop in his bat and known for extra base lasers (doubles/triples). "
   ]
  },
  {
   "cell_type": "code",
   "execution_count": 13,
   "metadata": {
    "collapsed": false
   },
   "outputs": [
    {
     "name": "stdout",
     "output_type": "stream",
     "text": [
      "Ian_Kinsler\n"
     ]
    }
   ],
   "source": [
    "knn = KNeighborsClassifier(n_neighbors=1, weights='distance', algorithm='auto')\n",
    "X = [x[0] for x in pca_map.values()]\n",
    "y = player_class.keys()\n",
    "knn.fit(X, y) \n",
    "player_key = knn.predict(Byron_Buxton)\n",
    "print player_class[player_key[0]]"
   ]
  },
  {
   "cell_type": "markdown",
   "metadata": {},
   "source": [
    "## Deeper Jeeper Creepers\n",
    "\n",
    "More hidden layers, where the \"black box\" mystique of deep learners come in play. How they get the deep features or what these features even mean, is at best, a deep dark mystery. After some devoted research we can make head and tails of it. Even make a more sophiscated deep learner to figure it out, but then again, we won't know how it got it conclusions. This is the \"devil in the details\" dilemma, they are always one step ahead of us."
   ]
  },
  {
   "cell_type": "code",
   "execution_count": 14,
   "metadata": {
    "collapsed": false
   },
   "outputs": [],
   "source": [
    "%%capture\n",
    "#deep_model = theanets.Autoencoder([11349, (16,'relu'), (16,'relu'), 11349])\n",
    "#deep_model.train([mb], algo='rmsprop', input_noise=0.1, hidden_l1=.001, sparsity=0.9, num_updates=1000)"
   ]
  },
  {
   "cell_type": "code",
   "execution_count": 15,
   "metadata": {
    "collapsed": false
   },
   "outputs": [],
   "source": [
    "#deep_features = deep_model.encode(mb)\n",
    "#print(deep_features)"
   ]
  },
  {
   "cell_type": "markdown",
   "metadata": {},
   "source": [
    "Yeah I would agree with this comparison. About the same age and are MVP candidates for their respective leagues (NL for Bryant and AL for Altuve). IMO their offensive skills are very similiar."
   ]
  },
  {
   "cell_type": "code",
   "execution_count": 23,
   "metadata": {
    "collapsed": false
   },
   "outputs": [
    {
     "name": "stdout",
     "output_type": "stream",
     "text": [
      "Jose_Altuve\n"
     ]
    }
   ],
   "source": [
    "Kris_Bryant = [[ 19.14107018,  16.77442651,   0.        ,  13.27170813,\n",
    "         18.54852151,   0.        ,  10.82832315,   0.        ,\n",
    "          0.        ,  15.41038945,  12.1842489 ,   3.54790086,\n",
    "         16.0049916 ,   0.        ,   0.        ,   0.        ]]\n",
    "\n",
    "temp_pca = pca_map\n",
    "#del temp_pca['Kris_Bryant']\n",
    "temp_class = player_class\n",
    "#del temp_class[0]\n",
    "\n",
    "knn = KNeighborsClassifier(n_neighbors=1, weights='distance', algorithm='auto')\n",
    "X = [x[0] for x in temp_pca.values()]\n",
    "y = temp_class.keys()\n",
    "knn.fit(X, y) \n",
    "player_key = knn.predict(Kris_Bryant)\n",
    "print player_class[player_key[0]]"
   ]
  },
  {
   "cell_type": "code",
   "execution_count": null,
   "metadata": {
    "collapsed": true
   },
   "outputs": [],
   "source": []
  }
 ],
 "metadata": {
  "anaconda-cloud": {},
  "kernelspec": {
   "display_name": "Python [conda root]",
   "language": "python",
   "name": "conda-root-py"
  },
  "language_info": {
   "codemirror_mode": {
    "name": "ipython",
    "version": 2
   },
   "file_extension": ".py",
   "mimetype": "text/x-python",
   "name": "python",
   "nbconvert_exporter": "python",
   "pygments_lexer": "ipython2",
   "version": "2.7.12"
  }
 },
 "nbformat": 4,
 "nbformat_minor": 1
}
