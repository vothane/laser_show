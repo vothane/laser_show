{
 "cells": [
  {
   "cell_type": "code",
   "execution_count": 1,
   "metadata": {
    "collapsed": false
   },
   "outputs": [],
   "source": [
    "import numpy as np\n",
    "import pandas as pd\n",
    "import theano\n",
    "import theanets # autoencoders\n",
    "from sklearn.cross_validation import train_test_split\n",
    "from scipy import misc\n",
    "import math"
   ]
  },
  {
   "cell_type": "code",
   "execution_count": 2,
   "metadata": {
    "collapsed": true
   },
   "outputs": [],
   "source": [
    "def crop(img):\n",
    "    top, bottom, left, right = 200, -131, 100, -100\n",
    "    return img[top:bottom, left:right]"
   ]
  },
  {
   "cell_type": "code",
   "execution_count": 3,
   "metadata": {
    "collapsed": true
   },
   "outputs": [],
   "source": [
    "def distance(c1, c2):\n",
    "    (r1,g1,b1) = c1\n",
    "    (r2,g2,b2) = c2\n",
    "    return math.sqrt((r1 - r2)**2 + (g1 - g2) ** 2 + (b1 - b2) **2)"
   ]
  },
  {
   "cell_type": "code",
   "execution_count": 32,
   "metadata": {
    "collapsed": false
   },
   "outputs": [],
   "source": [
    "hit_map = {(255, 255, 255) : 0, # white nothing\n",
    "           (0, 0, 0) : 0,       # homerun. not defensible\n",
    "           (255, 0, 0) : 1,     # linedrive, laser\n",
    "           (0, 255, 0) : 2,     # groundball  \n",
    "           (0, 0, 255) : 3,     # flyball\n",
    "           (160, 32, 240) : 4}  # blooper\n",
    "\n",
    "colors = hit_map.keys()\n",
    "    \n",
    "def norm_color(rgb):\n",
    "    rgb_key = tuple(rgb)\n",
    "    \n",
    "    if rgb_key in colors:\n",
    "        return hit_map[rgb_key]\n",
    "    else:    \n",
    "        sc = sorted(colors, key=lambda color: distance(color, rgb))\n",
    "        return hit_map[sc[0]]"
   ]
  },
  {
   "cell_type": "code",
   "execution_count": 33,
   "metadata": {
    "collapsed": false
   },
   "outputs": [],
   "source": [
    "mb = crop(misc.imread('charts/pros/Mookie_Betts.png', mode='RGB'))"
   ]
  },
  {
   "cell_type": "code",
   "execution_count": 35,
   "metadata": {
    "collapsed": false
   },
   "outputs": [],
   "source": [
    "mb = [[norm_color(rgb) for rgb in row] for row in mb]"
   ]
  },
  {
   "cell_type": "code",
   "execution_count": 37,
   "metadata": {
    "collapsed": false
   },
   "outputs": [
    {
     "data": {
      "text/plain": [
       "array([0, 1, 2, 3, 4])"
      ]
     },
     "execution_count": 37,
     "metadata": {},
     "output_type": "execute_result"
    }
   ],
   "source": [
    "np.unique(np.array(mb))"
   ]
  },
  {
   "cell_type": "code",
   "execution_count": null,
   "metadata": {
    "collapsed": true
   },
   "outputs": [],
   "source": []
  }
 ],
 "metadata": {
  "anaconda-cloud": {},
  "kernelspec": {
   "display_name": "Python [conda root]",
   "language": "python",
   "name": "conda-root-py"
  },
  "language_info": {
   "codemirror_mode": {
    "name": "ipython",
    "version": 2
   },
   "file_extension": ".py",
   "mimetype": "text/x-python",
   "name": "python",
   "nbconvert_exporter": "python",
   "pygments_lexer": "ipython2",
   "version": "2.7.12"
  }
 },
 "nbformat": 4,
 "nbformat_minor": 1
}
